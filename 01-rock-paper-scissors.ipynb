{
 "cells": [
  {
   "cell_type": "markdown",
   "metadata": {},
   "source": [
    "<img src=\"https://bit.ly/2VnXWr2\" width=\"100\" align=\"left\">"
   ]
  },
  {
   "cell_type": "markdown",
   "metadata": {},
   "source": [
    "# Rock, Paper & Scissors\n",
    "\n",
    "Let's play the famous game against our computer. You can check the rules [here](https://en.wikipedia.org/wiki/Rock%E2%80%93paper%E2%80%93scissors). \n",
    "\n",
    "## Task\n",
    "Create a program that imitates the playability of the well known game of rock, paper, scissors. Follow the guidelines provided.\n",
    "\n",
    "## Tools\n",
    "1. Loop: **for/while**\n",
    "2. Functions: **input(), print()...**\n",
    "3. Conditional statements: **if, elif, else**\n",
    "4. Definition of functions. Modular programming\n",
    "5. Import modules\n",
    "\n",
    "**To solve this challenge, the use of functions is recommended..**\n",
    "\n",
    "#### 1. Import the choice function of the random module."
   ]
  },
  {
   "cell_type": "code",
   "execution_count": 1,
   "metadata": {},
   "outputs": [],
   "source": [
    "import random"
   ]
  },
  {
   "cell_type": "markdown",
   "metadata": {},
   "source": [
    "#### 2. Create a list that includes the 3 possible gesture options of the game: 'rock', 'paper' or 'scissors'. Store the list in a variable called `gestures`."
   ]
  },
  {
   "cell_type": "code",
   "execution_count": 2,
   "metadata": {},
   "outputs": [],
   "source": [
    "gestures = ['piedra', 'papel', 'tijera']"
   ]
  },
  {
   "cell_type": "markdown",
   "metadata": {},
   "source": [
    "#### 3. Create a variable called `n_rounds` to store the maximum number of rounds to play in a game. \n",
    "Remember that the number of rounds must be odd: 1, 3, 5, ..."
   ]
  },
  {
   "cell_type": "code",
   "execution_count": 3,
   "metadata": {},
   "outputs": [],
   "source": [
    "n_rounds = 3"
   ]
  },
  {
   "cell_type": "markdown",
   "metadata": {},
   "source": [
    "#### 4. Create a variable called `rounds_to_win` to store the number of rounds that a player must win to win the game.\n",
    "**Hint**: the value stored in `rounds_to_win` depends on the value of `n_rounds`. "
   ]
  },
  {
   "cell_type": "code",
   "execution_count": 4,
   "metadata": {},
   "outputs": [],
   "source": [
    "rounds_to_win = 0"
   ]
  },
  {
   "cell_type": "markdown",
   "metadata": {},
   "source": [
    "#### 5. Create two variables to store the number of rounds that the computer and the player have won. Call these variables `cpu_score` and `player_score`."
   ]
  },
  {
   "cell_type": "code",
   "execution_count": 5,
   "metadata": {},
   "outputs": [],
   "source": [
    "cpu_score = 0\n",
    "player_score = 0"
   ]
  },
  {
   "cell_type": "markdown",
   "metadata": {},
   "source": [
    "#### 6. Define a function that randomly returns one of the 3 gesture options.\n",
    "You will use this function to simulate the gesture choice of the computer. "
   ]
  },
  {
   "cell_type": "code",
   "execution_count": 6,
   "metadata": {},
   "outputs": [],
   "source": [
    "def aleatorio(): # Funcion que saca opciones aleatorias\n",
    "    opcion = random.choice(gestures) # gestures esta arriba con 3 opciones\n",
    "    return opcion"
   ]
  },
  {
   "cell_type": "code",
   "execution_count": 7,
   "metadata": {},
   "outputs": [
    {
     "data": {
      "text/plain": [
       "'tijera'"
      ]
     },
     "execution_count": 7,
     "metadata": {},
     "output_type": "execute_result"
    }
   ],
   "source": [
    "aleatorio()"
   ]
  },
  {
   "cell_type": "markdown",
   "metadata": {},
   "source": [
    "#### 7. Define a function that asks the player which is the gesture he or she wants to show: 'rock', 'paper' or 'scissors'.\n",
    "The player should only be allowed to choose one of the 3 gesture options. If the player's choice is not rock, paper or scissors, keep asking until it is."
   ]
  },
  {
   "cell_type": "code",
   "execution_count": 8,
   "metadata": {},
   "outputs": [],
   "source": [
    "def jugador(): # Funcion que pregunta al usuario por las 3 opciones del juego\n",
    "    opcion = ''\n",
    "    while opcion != '1' and opcion != '2' and opcion != '3':\n",
    "        print('Elige una opcion: \\n','Piedra  1 \\n', 'Papel 2 \\n','Tijera 3 \\n')\n",
    "        opcion = input()\n",
    "        return opcion"
   ]
  },
  {
   "cell_type": "code",
   "execution_count": 9,
   "metadata": {
    "scrolled": true
   },
   "outputs": [
    {
     "name": "stdout",
     "output_type": "stream",
     "text": [
      "Elige una opcion: \n",
      " Piedra  1 \n",
      " Papel 2 \n",
      " Tijera 3 \n",
      "\n",
      "1\n"
     ]
    },
    {
     "data": {
      "text/plain": [
       "'1'"
      ]
     },
     "execution_count": 9,
     "metadata": {},
     "output_type": "execute_result"
    }
   ],
   "source": [
    "jugador()"
   ]
  },
  {
   "cell_type": "code",
   "execution_count": null,
   "metadata": {},
   "outputs": [],
   "source": []
  },
  {
   "cell_type": "markdown",
   "metadata": {},
   "source": [
    "#### 8. Define a function that checks who won a round. \n",
    "The function should return 0 if there is a tie, 1 if the computer wins and 2 if the player wins."
   ]
  },
  {
   "cell_type": "code",
   "execution_count": 10,
   "metadata": {},
   "outputs": [],
   "source": [
    "def juego(maquina, jugador1): # Aqui hay que definir todas las opciones del juego\n",
    "# Seguro que hay otras opciones para hacerlo comprimido pero asi lo veo mejor \n",
    "    game = 0\n",
    "    \n",
    "    if(maquina == 'Piedra' and jugador1 == '1'):\n",
    "        print('Maquina: Piedra, Jugador1: Piedra')\n",
    "        game = 0\n",
    "        return game\n",
    "    elif(maquina == ' Piedra' and jugador1 == '2'):\n",
    "        print('Maquina: Piedra, Jugador1: Papel')\n",
    "        game = 2\n",
    "        return game\n",
    "    elif(maquina == ' Piedra' and jugador1 == '3'):\n",
    "        print('Maquina: Piedra, Jugador1: Tijera')\n",
    "        game = 1\n",
    "        return game\n",
    "    elif(maquina == ' Papel' and jugador1 == '1'):\n",
    "        print('Maquina: Papel, Jugador1: Piedra')\n",
    "        game = 1\n",
    "        return game\n",
    "    elif(maquina == ' Papel' and jugador1 == '2'):\n",
    "        print('Maquina: Piedra, Jugador1: Papel')\n",
    "        game = 0\n",
    "        return game\n",
    "    elif(maquina == ' Papel' and jugador1 == '3'):\n",
    "        print('Maquina: Piedra, Jugador1: Tijera')\n",
    "        game = 2\n",
    "        return game\n",
    "    elif(maquina == 'Tijeras' and jugador1 == '1'):\n",
    "        print('Maquina: Piedra, Jugador1: Piedra')\n",
    "        game = 2\n",
    "        return game\n",
    "    elif(maquina == 'Tijeras' and jugador1 == '2'):\n",
    "        print('Maquina: Piedra, Jugador1: Papel')\n",
    "        game = 1\n",
    "        return game\n",
    "    elif(maquina == 'Tijeras' and jugador1 == '3'):\n",
    "        print('Maquina: Piedra, Jugador1: Tijera')\n",
    "        game = 0\n",
    "        return game"
   ]
  },
  {
   "cell_type": "code",
   "execution_count": null,
   "metadata": {},
   "outputs": [],
   "source": []
  },
  {
   "cell_type": "code",
   "execution_count": null,
   "metadata": {},
   "outputs": [],
   "source": []
  },
  {
   "cell_type": "markdown",
   "metadata": {},
   "source": [
    "#### 9. Define a function that prints the choice of the computer, the choice of the player and a message that announces who won the current round. \n",
    "You should also use this function to update the variables that count the number of rounds that the computer and the player have won. The score of the winner increases by one point. If there is a tie, the score does not increase."
   ]
  },
  {
   "cell_type": "code",
   "execution_count": 11,
   "metadata": {},
   "outputs": [],
   "source": [
    "def opciones_maquina():\n",
    "    resultado = juego(aleatorio(), jugador())\n",
    "    if(resultado == 0):\n",
    "        print('Empate')\n",
    "    elif(resultado == 1):\n",
    "        print('La máquina gana')\n",
    "        return 1\n",
    "    else:\n",
    "        print('Jugador gana')\n",
    "        return 2\n",
    "    "
   ]
  },
  {
   "cell_type": "code",
   "execution_count": null,
   "metadata": {},
   "outputs": [],
   "source": []
  },
  {
   "cell_type": "markdown",
   "metadata": {},
   "source": [
    "#### 10. Now it's time to code the execution of the game using the functions and variables you defined above. \n",
    "\n",
    "First, create a loop structure that repeats while no player reaches the minimum score necessary to win and the number of rounds is less than the maximum number of rounds to play in a game.  \n",
    "\n",
    "Inside the loop, use the functions and variables above to create the execution of a round: ask for the player's choice, generate the random choice of the computer, show the round results, update the scores, etc. "
   ]
  },
  {
   "cell_type": "code",
   "execution_count": 12,
   "metadata": {},
   "outputs": [],
   "source": [
    "rondas = 0\n",
    "maquina_gana = 0\n",
    "jugador_gana = 0"
   ]
  },
  {
   "cell_type": "code",
   "execution_count": 13,
   "metadata": {},
   "outputs": [
    {
     "name": "stdout",
     "output_type": "stream",
     "text": [
      "Elige una opcion: \n",
      " Piedra  1 \n",
      " Papel 2 \n",
      " Tijera 3 \n",
      "\n",
      "1\n",
      "Jugador gana\n",
      "Elige una opcion: \n",
      " Piedra  1 \n",
      " Papel 2 \n",
      " Tijera 3 \n",
      "\n",
      "2\n",
      "Jugador gana\n",
      "Elige una opcion: \n",
      " Piedra  1 \n",
      " Papel 2 \n",
      " Tijera 3 \n",
      "\n",
      "3\n",
      "Jugador gana\n"
     ]
    }
   ],
   "source": [
    "while(rondas < n_rounds):\n",
    "    gana = opciones_maquina()\n",
    "    rondas += 1\n",
    "    if (gana == 1):\n",
    "        maquina_gana += 1\n",
    "    elif(gana == 2):\n",
    "        jugador_gana += 1\n",
    "    "
   ]
  },
  {
   "cell_type": "code",
   "execution_count": null,
   "metadata": {},
   "outputs": [],
   "source": []
  },
  {
   "cell_type": "code",
   "execution_count": null,
   "metadata": {},
   "outputs": [],
   "source": []
  },
  {
   "cell_type": "markdown",
   "metadata": {},
   "source": [
    "#### 11. Print the winner of the game based on who won more rounds.\n",
    "Remember that the game might be tied. "
   ]
  },
  {
   "cell_type": "code",
   "execution_count": 15,
   "metadata": {},
   "outputs": [
    {
     "name": "stdout",
     "output_type": "stream",
     "text": [
      "El jugador ha ganado la partida\n"
     ]
    }
   ],
   "source": [
    "if(maquina_gana > jugador_gana):\n",
    "    print('La máquina ha ganado la partida')\n",
    "elif(maquina_gana < jugador_gana):\n",
    "    print('El jugador ha ganado la partida')\n",
    "else:\n",
    "    print('Empate')"
   ]
  },
  {
   "cell_type": "code",
   "execution_count": null,
   "metadata": {},
   "outputs": [],
   "source": []
  },
  {
   "cell_type": "code",
   "execution_count": null,
   "metadata": {},
   "outputs": [],
   "source": []
  }
 ],
 "metadata": {
  "kernelspec": {
   "display_name": "Python 3",
   "language": "python",
   "name": "python3"
  },
  "language_info": {
   "codemirror_mode": {
    "name": "ipython",
    "version": 3
   },
   "file_extension": ".py",
   "mimetype": "text/x-python",
   "name": "python",
   "nbconvert_exporter": "python",
   "pygments_lexer": "ipython3",
   "version": "3.8.5"
  }
 },
 "nbformat": 4,
 "nbformat_minor": 2
}
