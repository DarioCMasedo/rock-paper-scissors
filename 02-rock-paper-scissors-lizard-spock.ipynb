{
 "cells": [
  {
   "cell_type": "markdown",
   "metadata": {},
   "source": [
    "# Rock, Paper, Scissors, Lizard & Spock\n",
    "![](images/rpsls.jpg)\n",
    "\n",
    "In this challenge, you need to improve the previous game by adding two new options. To know more about the rules of the improved version of rock, paper, scissors, check this [link](http://www.samkass.com/theories/RPSSL.html). \n",
    "\n",
    "In addition, you will also need to improve how the game interacts with the player: the number of rounds to play, which must be an odd number, will be requested to the user until a valid number is entered. Define a new function to make that request.\n",
    "\n",
    "**Hint**: Try to reuse the code that you already coded in the previous challenge. If your code is efficient, this bonus will only consist of simple modifications to the original game."
   ]
  },
  {
   "cell_type": "code",
   "execution_count": 1,
   "metadata": {},
   "outputs": [],
   "source": [
    "import random"
   ]
  },
  {
   "cell_type": "code",
   "execution_count": 2,
   "metadata": {},
   "outputs": [],
   "source": [
    "gestures = ['piedra', 'papel', 'tijera', 'lagarto', 'Spock']"
   ]
  },
  {
   "cell_type": "code",
   "execution_count": 3,
   "metadata": {},
   "outputs": [],
   "source": [
    "n_rounds = 3"
   ]
  },
  {
   "cell_type": "code",
   "execution_count": 4,
   "metadata": {},
   "outputs": [],
   "source": [
    "def aleatorio(): # Funcion que saca opciones aleatorias\n",
    "    opcion = random.choice(gestures) # gestures esta arriba con 3 opciones\n",
    "    return opcion"
   ]
  },
  {
   "cell_type": "code",
   "execution_count": 5,
   "metadata": {},
   "outputs": [],
   "source": [
    "def jugador(): # Funcion que pregunta al usuario por las 3 opciones del juego\n",
    "    opcion_jugador = ''\n",
    "    while opcion_jugador != '1' and opcion_jugador !='2' and opcion_jugador !='3':\n",
    "        print('Elige: \\n','Piedra----> 1 \\n', 'Papel-----> 2 \\n','Tijera----> 3 \\n','Lagarto----> 4 \\n','SPOCK----> 5 \\n')\n",
    "        opcion_jugador = input()\n",
    "        return opcion_jugador"
   ]
  },
  {
   "cell_type": "code",
   "execution_count": 6,
   "metadata": {},
   "outputs": [],
   "source": [
    "def juego(maquina, jugador1):\n",
    "    game = 0\n",
    "    if(maquina == 'Piedra' and jugador1=='1'):\n",
    "        print('Maquina: Piedra, Player: Stone')\n",
    "        game = 0\n",
    "        return game\n",
    "    elif(maquina == 'Piedra' and jugador1=='2'):\n",
    "        print('Maquina: Piedra, Jugador: Papel')\n",
    "        game = 2\n",
    "        return game\n",
    "    elif(maquina == 'Piedra' and jugador1=='3'):\n",
    "        print('Maquina: Piedra, Jugador: Tijeras')\n",
    "        game = 1\n",
    "        return game\n",
    "    elif(maquina == 'Piedra' and jugador1=='4'):\n",
    "        print('Maquina: Piedra, Jugador: Lagarto')\n",
    "        game = 1\n",
    "        return game\n",
    "    elif(maquina == 'Piedra' and jugador1=='5'):\n",
    "        print('Maquina: Piedra, Jugador: Spock')\n",
    "        game = 2\n",
    "        return game\n",
    "    elif(maquina == 'Papel' and jugador1 == '1'):\n",
    "        print('Maquina: Papel, Jugador: Piedra')\n",
    "        game = 1\n",
    "        return game\n",
    "    elif(maquina == 'Papel' and jugador1 == '2'):\n",
    "        print('Maquina: Papel, Jugador: Papel')\n",
    "        game = 0\n",
    "        return game\n",
    "    elif(maquina == 'Papel' and jugador1 == '3'):\n",
    "        print('Maquina: Paper, Jugador: Tijeras')\n",
    "        game = 2\n",
    "        return game\n",
    "    elif(maquina == 'Papel' and jugador1 == '4'):\n",
    "        print('Maquina: Papel, Jugador: Lagarto')\n",
    "        game = 1\n",
    "        return game\n",
    "    elif(maquina == 'Papel' and jugador1 == '5'):\n",
    "        print('Maquina: Papel, Jugador: Spock')\n",
    "        game = 2\n",
    "        return game\n",
    "    elif(maquina == 'Tijeras' and jugador1 == '1'):\n",
    "        print('Maquina: Tijeras, Jugador: Piedra')\n",
    "        game = 2\n",
    "        return game\n",
    "    elif(maquina == 'Tijeras' and jugador1 == '2'):\n",
    "        print('Maquina: Tijeras, Jugador: Papel')\n",
    "        game = 1\n",
    "        return game\n",
    "    elif(maquina == 'Tijeras' and jugador1 == '3'):\n",
    "        print('Maquina: Tijeras, Jugador: Tijeras')\n",
    "        game = 0\n",
    "        return game\n",
    "    elif(maquina == 'Tijeras' and jugador1 == '4'):\n",
    "        print('Maquina: Tijeras, Jugador: Lagarto')\n",
    "        game = 1\n",
    "        return game\n",
    "    elif(maquina == 'Tijeras' and jugador1 == '5'):\n",
    "        print('Maquina: Tijeras, Jugador: Spock')\n",
    "        game = 2\n",
    "        return game\n",
    "    elif(maquina == 'Lagarto' and jugador1 == '1'):\n",
    "        print('Maquina: Lizard, Jugador: Piedra')\n",
    "        game = 2\n",
    "        return game\n",
    "    elif(maquina == 'Lagarto' and jugador1 == '2'):\n",
    "        print('Maquina: Lizard, Jugador: Papel')\n",
    "        game = 1\n",
    "        return game\n",
    "    elif(maquina == 'Lagarto' and jugador1 == '3'):\n",
    "        print('Maquina: Lizard, Jugador: Tijeras')\n",
    "        game = 2\n",
    "        return game\n",
    "    elif(maquina == 'Lagarto' and jugador1 == '4'):\n",
    "        print('Maquina: Lizard, Jugador: Lagarto')\n",
    "        game = 0\n",
    "        return game\n",
    "    elif(maquina == 'Lagarto' and jugador1 == '5'):\n",
    "        print('Maquina: Lizard, Jugador: Spock')\n",
    "        game = 1\n",
    "        return game\n",
    "    elif(maquina == 'Spock' and jugador1 == '1'):\n",
    "        print('Maquina: Spock, Jugador: Piedra')\n",
    "        game = 1\n",
    "        return game\n",
    "    elif(maquina == 'Spock' and jugador1 == '2'):\n",
    "        print('Maquina: Spock, Jugador: Papel')\n",
    "        game = 2\n",
    "        return game\n",
    "    elif(maquina == 'Spock' and jugador1 == '3'):\n",
    "        print('Maquina: Spock, Jugador: Tijeras')\n",
    "        game = 1\n",
    "        return game\n",
    "    elif(maquina == 'spock' and jugador1 == '4'):\n",
    "        print('Maquina: Spock, Jugador: Lagarto')\n",
    "        game = 2\n",
    "        return game\n",
    "    elif(maquina == 'spock' and jugador1 == '5'):\n",
    "        print('Maquina: Spock, Jugador: Spock')\n",
    "        game = 0\n",
    "        return game"
   ]
  },
  {
   "cell_type": "code",
   "execution_count": null,
   "metadata": {},
   "outputs": [],
   "source": []
  },
  {
   "cell_type": "code",
   "execution_count": 7,
   "metadata": {},
   "outputs": [],
   "source": [
    "def opciones_maquina():\n",
    "    resultado = juego(aleatorio(), jugador())\n",
    "    if(resultado == 0):\n",
    "        print('Empate')\n",
    "    elif(resultado == 1):\n",
    "        print('La máquina gana')\n",
    "        return 1\n",
    "    else:\n",
    "        print('Jugador gana')\n",
    "        return 2"
   ]
  },
  {
   "cell_type": "code",
   "execution_count": 8,
   "metadata": {},
   "outputs": [],
   "source": [
    "rondas = 0\n",
    "maquina_gana = 0\n",
    "jugador_gana = 0"
   ]
  },
  {
   "cell_type": "code",
   "execution_count": 9,
   "metadata": {},
   "outputs": [
    {
     "name": "stdout",
     "output_type": "stream",
     "text": [
      "Elige: \n",
      " Piedra----> 1 \n",
      " Papel-----> 2 \n",
      " Tijera----> 3 \n",
      " Lagarto----> 4 \n",
      " SPOCK----> 5 \n",
      "\n",
      "4\n",
      "Jugador gana\n",
      "Elige: \n",
      " Piedra----> 1 \n",
      " Papel-----> 2 \n",
      " Tijera----> 3 \n",
      " Lagarto----> 4 \n",
      " SPOCK----> 5 \n",
      "\n",
      "3\n",
      "Jugador gana\n",
      "Elige: \n",
      " Piedra----> 1 \n",
      " Papel-----> 2 \n",
      " Tijera----> 3 \n",
      " Lagarto----> 4 \n",
      " SPOCK----> 5 \n",
      "\n",
      "5\n",
      "Jugador gana\n"
     ]
    }
   ],
   "source": [
    "while(rondas < n_rounds):\n",
    "    gana = opciones_maquina()\n",
    "    rondas += 1\n",
    "    if (gana == 1):\n",
    "        maquina_gana += 1\n",
    "    elif(gana == 2):\n",
    "        jugador_gana += 1"
   ]
  },
  {
   "cell_type": "code",
   "execution_count": 10,
   "metadata": {},
   "outputs": [
    {
     "name": "stdout",
     "output_type": "stream",
     "text": [
      "El jugador ha ganado la partida\n"
     ]
    }
   ],
   "source": [
    "if(maquina_gana > jugador_gana):\n",
    "    print('La máquina ha ganado la partida')\n",
    "elif(maquina_gana < jugador_gana):\n",
    "    print('El jugador ha ganado la partida')\n",
    "else:\n",
    "    print('Empate')"
   ]
  },
  {
   "cell_type": "code",
   "execution_count": null,
   "metadata": {},
   "outputs": [],
   "source": []
  },
  {
   "cell_type": "code",
   "execution_count": null,
   "metadata": {},
   "outputs": [],
   "source": []
  },
  {
   "cell_type": "code",
   "execution_count": null,
   "metadata": {},
   "outputs": [],
   "source": []
  },
  {
   "cell_type": "code",
   "execution_count": null,
   "metadata": {},
   "outputs": [],
   "source": []
  }
 ],
 "metadata": {
  "kernelspec": {
   "display_name": "Python 3",
   "language": "python",
   "name": "python3"
  },
  "language_info": {
   "codemirror_mode": {
    "name": "ipython",
    "version": 3
   },
   "file_extension": ".py",
   "mimetype": "text/x-python",
   "name": "python",
   "nbconvert_exporter": "python",
   "pygments_lexer": "ipython3",
   "version": "3.8.5"
  },
  "toc": {
   "base_numbering": 1,
   "nav_menu": {},
   "number_sections": true,
   "sideBar": true,
   "skip_h1_title": false,
   "title_cell": "Table of Contents",
   "title_sidebar": "Contents",
   "toc_cell": false,
   "toc_position": {},
   "toc_section_display": true,
   "toc_window_display": false
  }
 },
 "nbformat": 4,
 "nbformat_minor": 5
}
